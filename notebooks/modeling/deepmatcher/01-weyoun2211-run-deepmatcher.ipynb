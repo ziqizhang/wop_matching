{
 "cells": [
  {
   "cell_type": "markdown",
   "metadata": {},
   "source": [
    "## run deepmatcher experiments"
   ]
  },
  {
   "cell_type": "code",
   "execution_count": null,
   "metadata": {},
   "outputs": [],
   "source": [
    "# OPTIONAL: Load the \"autoreload\" extension so that code can change\n",
    "%load_ext autoreload\n",
    "\n",
    "# OPTIONAL: always reload modules so that as you change code in src, it gets loaded\n",
    "%autoreload 2"
   ]
  },
  {
   "cell_type": "code",
   "execution_count": null,
   "metadata": {},
   "outputs": [],
   "source": [
    "import pandas as pd\n",
    "import numpy as np\n",
    "np.random.seed(42)\n",
    "import random\n",
    "random.seed(42)\n",
    "\n",
    "import os\n",
    "import time\n",
    "import glob\n",
    "\n",
    "import sys\n",
    "sys.path.append('../../../')\n",
    "from src.models.deepmatcher import run_deepmatcher\n",
    "\n",
    "from sklearn.metrics import classification_report\n",
    "from sklearn.metrics import confusion_matrix"
   ]
  },
  {
   "cell_type": "code",
   "execution_count": null,
   "metadata": {},
   "outputs": [],
   "source": [
    "# learning curve experiment\n",
    "gpu_id = '0'\n",
    "for file in glob.glob('../../../data/processed/wdc-lspc/magellan/learning-curve/formatted/*'):\n",
    "    if 'trainonly' in file and 'metadata' not in file and '_pairs_' in file:\n",
    "        train_set = file\n",
    "        valid_set = file.replace('trainonly','valid')\n",
    "\n",
    "        test_cat = os.path.basename(file).split('_')[0]\n",
    "        test_set = '../../../data/processed/wdc-lspc/magellan/learning-curve/formatted/{}_gs_magellan_pairs_formatted.csv'.format(test_cat)\n",
    "\n",
    "        experiment_name = 'learning-curve'       \n",
    "        epochs = 15\n",
    "        pos_neg_ratio = 1\n",
    "        batch_size = 8\n",
    "        lr = 0.001\n",
    "        lr_decay = 0.9\n",
    "        embedding = 'fasttext.en.bin'\n",
    "        nn_type = 'rnn'\n",
    "        comp_type = 'abs-diff'\n",
    "        special_name = 'standard'\n",
    "        features = ['title', 'description', 'brand', 'specTableContent']\n",
    "        run_no = 1\n",
    "\n",
    "        run_deepmatcher.run_dm_model(train_set, valid_set, test_set, experiment_name, gpu_id, epochs, pos_neg_ratio, batch_size, lr, lr_decay, embedding, nn_type, comp_type, special_name, features, run_no)"
   ]
  },
  {
   "cell_type": "code",
   "execution_count": null,
   "metadata": {},
   "outputs": [],
   "source": [
    "# noisy training data experiment\n",
    "gpu_id = '0'\n",
    "for file in glob.glob('../../../data/processed/wdc-lspc/magellan/training-sets-noised/formatted/*'):\n",
    "    if 'trainonly' in file and 'computers' in file and 'metadata' not in file and '_pairs_' in file:\n",
    "        train_set = file\n",
    "        valid_set = file.replace('trainonly','valid')\n",
    "        test_set = '../../../data/processed/wdc-lspc/magellan/training-sets-noised/formatted/computers_gs_magellan_pairs_formatted.csv'\n",
    "\n",
    "        experiment_name = 'noisy-training'       \n",
    "        epochs = 15\n",
    "        pos_neg_ratio = 1\n",
    "        batch_size = 8\n",
    "        lr = 0.001\n",
    "        lr_decay = 0.9\n",
    "        embedding = 'fasttext.en.bin'\n",
    "        nn_type = 'rnn'\n",
    "        comp_type = 'abs-diff'\n",
    "        special_name = 'noise'\n",
    "        features = ['title', 'description', 'brand']\n",
    "        run_no = 1\n",
    "\n",
    "        run_deepmatcher.run_dm_model(train_set, valid_set, test_set, experiment_name, gpu_id, epochs, pos_neg_ratio, batch_size, lr, lr_decay, embedding, nn_type, comp_type, special_name, features, run_no)"
   ]
  },
  {
   "cell_type": "code",
   "execution_count": null,
   "metadata": {},
   "outputs": [],
   "source": []
  }
 ],
 "metadata": {
  "kernelspec": {
   "display_name": "Python 3",
   "language": "python",
   "name": "python3"
  },
  "language_info": {
   "codemirror_mode": {
    "name": "ipython",
    "version": 3
   },
   "file_extension": ".py",
   "mimetype": "text/x-python",
   "name": "python",
   "nbconvert_exporter": "python",
   "pygments_lexer": "ipython3",
   "version": "3.7.6"
  }
 },
 "nbformat": 4,
 "nbformat_minor": 4
}
